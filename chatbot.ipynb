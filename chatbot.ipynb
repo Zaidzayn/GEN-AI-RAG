{
 "cells": [
  {
   "cell_type": "code",
   "execution_count": 84,
   "metadata": {},
   "outputs": [],
   "source": [
    "import os\n",
    "from dotenv import load_dotenv\n",
    "load_dotenv()\n",
    "groq_api_key=os.getenv(\"GROQ_API_KEY\")\n"
   ]
  },
  {
   "cell_type": "code",
   "execution_count": 63,
   "metadata": {},
   "outputs": [
    {
     "data": {
      "text/plain": [
       "ChatGroq(client=<groq.resources.chat.completions.Completions object at 0x000002180F7AA3B0>, async_client=<groq.resources.chat.completions.AsyncCompletions object at 0x0000021811A4F1F0>, model_name='llama-3.1-8b-instant', model_kwargs={}, groq_api_key=SecretStr('**********'))"
      ]
     },
     "execution_count": 63,
     "metadata": {},
     "output_type": "execute_result"
    }
   ],
   "source": [
    "from langchain_groq import ChatGroq\n",
    "model=ChatGroq(model=\"llama-3.1-8b-instant\", api_key=groq_api_key)\n",
    "model"
   ]
  },
  {
   "cell_type": "code",
   "execution_count": 64,
   "metadata": {},
   "outputs": [
    {
     "data": {
      "text/plain": [
       "AIMessage(content=\"Hello, world. I'm just a language model, so I don't have emotions, but I'm functioning properly and ready to assist you with any questions or tasks you may have. How can I help you today?\", additional_kwargs={}, response_metadata={'token_usage': {'completion_tokens': 45, 'prompt_tokens': 43, 'total_tokens': 88, 'completion_time': 0.053695895, 'prompt_time': 0.005956272, 'queue_time': 0.046144328, 'total_time': 0.059652167}, 'model_name': 'llama-3.1-8b-instant', 'system_fingerprint': 'fp_2115512ff6', 'service_tier': 'on_demand', 'finish_reason': 'stop', 'logprobs': None}, id='run--0107b5fe-ae65-490d-ad3d-2a835b60783b-0', usage_metadata={'input_tokens': 43, 'output_tokens': 45, 'total_tokens': 88})"
      ]
     },
     "execution_count": 64,
     "metadata": {},
     "output_type": "execute_result"
    }
   ],
   "source": [
    "from langchain_core.messages import HumanMessage\n",
    "model.invoke([HumanMessage(content=\"Hello, world! How are you?\")])"
   ]
  },
  {
   "cell_type": "code",
   "execution_count": 65,
   "metadata": {},
   "outputs": [
    {
     "data": {
      "text/plain": [
       "AIMessage(content=\"Let me recall our conversation:\\n\\n1. **Your Name:** MD Zaid K\\n2. **What you want to learn:** Artificial Intelligence (AI)\\n\\nIs there anything specific within AI that you'd like to focus on, such as:\\n- Machine Learning (ML)\\n- Deep Learning (DL)\\n- Natural Language Processing (NLP)\\n- Computer Vision\\n- or something else?\", additional_kwargs={}, response_metadata={'token_usage': {'completion_tokens': 78, 'prompt_tokens': 90, 'total_tokens': 168, 'completion_time': 0.106941157, 'prompt_time': 0.008112381, 'queue_time': 0.046858779, 'total_time': 0.115053538}, 'model_name': 'llama-3.1-8b-instant', 'system_fingerprint': 'fp_2115512ff6', 'service_tier': 'on_demand', 'finish_reason': 'stop', 'logprobs': None}, id='run--d9572919-db9a-448f-ab10-ca12a390a2de-0', usage_metadata={'input_tokens': 90, 'output_tokens': 78, 'total_tokens': 168})"
      ]
     },
     "execution_count": 65,
     "metadata": {},
     "output_type": "execute_result"
    }
   ],
   "source": [
    "from langchain_core.messages import AIMessage\n",
    "\n",
    "model.invoke(\n",
    "    [\n",
    "    HumanMessage(content=\"Hi my self MD Zaid K and i want to learn AI\"),\n",
    "    AIMessage(content=\"Hello MD Zaid K! That's great to hear. How can I assist you in your AI learning journey?\"),\n",
    "    HumanMessage(content=\"Whats My name?,What i want to learn\")\n",
    "    ]\n",
    ")\n"
   ]
  },
  {
   "cell_type": "code",
   "execution_count": 66,
   "metadata": {},
   "outputs": [],
   "source": [
    "## Message history\n",
    "from langchain_community.chat_message_histories import ChatMessageHistory\n",
    "from langchain_core.chat_history import BaseChatMessageHistory\n",
    "from langchain_core.runnables.history import RunnableWithMessageHistory\n",
    "\n",
    "store = {}\n",
    "\n",
    "def get_session_history(session_id: str) -> BaseChatMessageHistory:\n",
    "    if session_id not in store:\n",
    "        store[session_id] = ChatMessageHistory()\n",
    "    return store[session_id]\n",
    "with_message_history = RunnableWithMessageHistory(model,get_session_history)"
   ]
  },
  {
   "cell_type": "code",
   "execution_count": 67,
   "metadata": {},
   "outputs": [],
   "source": [
    "config={\"configurable\":{\"session_id\":\"chat1\"}}"
   ]
  },
  {
   "cell_type": "code",
   "execution_count": 68,
   "metadata": {},
   "outputs": [],
   "source": [
    "responce=with_message_history.invoke(\n",
    "    [HumanMessage(content=\"HI My self zaid I want to become AI Engineer\")],\n",
    "    config=config\n",
    ")"
   ]
  },
  {
   "cell_type": "code",
   "execution_count": 69,
   "metadata": {},
   "outputs": [
    {
     "data": {
      "text/plain": [
       "'Hello Zaid, nice to meet you. Becoming an AI Engineer is a fascinating and challenging career path. Here\\'s a brief overview to get you started:\\n\\n**What is an AI Engineer?**\\n\\nAn AI Engineer designs, develops, and deploys artificial intelligence (AI) and machine learning (ML) systems. They work on various projects, such as chatbots, natural language processing (NLP), computer vision, predictive analytics, and recommendation systems.\\n\\n**Key Skills Required:**\\n\\n1. **Programming**: Proficiency in languages like Python, Java, C++, or R.\\n2. **Mathematics**: Strong understanding of linear algebra, calculus, probability, and statistics.\\n3. **Data Structures and Algorithms**: Knowledge of data structures like arrays, linked lists, and graphs, as well as algorithms like sorting and searching.\\n4. **Machine Learning**: Familiarity with supervised, unsupervised, and reinforcement learning.\\n5. **Deep Learning**: Knowledge of convolutional neural networks (CNNs), recurrent neural networks (RNNs), and transformers.\\n6. **Data Preprocessing**: Ability to clean, preprocess, and visualize data.\\n7. **Model Evaluation**: Understanding of metrics like accuracy, precision, recall, and F1 score.\\n8. **Software Development**: Experience with version control systems like Git, and agile development methodologies.\\n9. **Cloud Computing**: Familiarity with cloud platforms like AWS, Azure, or Google Cloud.\\n10. **Communication**: Ability to communicate complex technical ideas to non-technical stakeholders.\\n\\n**Steps to Become an AI Engineer:**\\n\\n1. **Learn the Basics**: Start with Python programming, math, and statistics.\\n2. **Get Familiar with Machine Learning**: Study supervised, unsupervised, and reinforcement learning.\\n3. **Deep Learning**: Learn about CNNs, RNNs, and transformers.\\n4. **Practice with Projects**: Implement machine learning and deep learning models on real-world datasets.\\n5. **Stay Updated**: Follow AI and ML blogs, attend conferences, and participate in hackathons.\\n6. **Join Online Communities**: Engage with AI and ML enthusiasts on platforms like Kaggle, Reddit, and GitHub.\\n7. **Consider a Degree or Certification**: Pursue a degree in computer science or a related field, or obtain a certification like the Certified Data Scientist (CDS) or Certified AI Engineer (CAIE).\\n\\n**Recommended Resources:**\\n\\n1. **Books**:\\n\\t* \"Deep Learning\" by Ian Goodfellow, Yoshua Bengio, and Aaron Courville\\n\\t* \"Python Machine Learning\" by Sebastian Raschka\\n\\t* \"Hands-On Machine Learning with Scikit-Learn, Keras, and TensorFlow\" by Aurélien Géron\\n2. **Online Courses**:\\n\\t* Andrew Ng\\'s Machine Learning course on Coursera\\n\\t* Stanford University\\'s Machine Learning course on Stanford Online\\n\\t* edX\\'s AI and ML courses\\n3. **Tutorials and Guides**:\\n\\t* Kaggle\\'s Machine Learning and Deep Learning tutorials\\n\\t* GitHub\\'s Machine Learning and Deep Learning repositories\\n\\t* Towards Data Science\\'s AI and ML articles\\n\\n**Final Tips:**\\n\\n1. **Be Persistent**: Learning AI and ML takes time and effort.\\n2. **Practice Regularly**: Work on projects and experiments to improve your skills.\\n3. **Stay Curious**: Continuously learn and explore new areas of AI and ML.\\n\\nGood luck on your journey to becoming an AI Engineer, Zaid!'"
      ]
     },
     "execution_count": 69,
     "metadata": {},
     "output_type": "execute_result"
    }
   ],
   "source": [
    "responce.content"
   ]
  },
  {
   "cell_type": "code",
   "execution_count": 70,
   "metadata": {},
   "outputs": [
    {
     "data": {
      "text/plain": [
       "\"I don't have any information about your name as our conversation has just started. I'm a large language model, I don't have personal knowledge or recall previous conversations with users. Each time you interact with me, it's a new conversation. If you'd like to share your name with me, I can use it to address you in our conversation.\""
      ]
     },
     "execution_count": 70,
     "metadata": {},
     "output_type": "execute_result"
    }
   ],
   "source": [
    "## cahnge the config ---> Session ID\n",
    "congig1={\"configurable\":{\"session_id\":\"chat2\"}}\n",
    "responce=with_message_history.invoke(HumanMessage(content=\"What is my name?\"),config=congig1)\n",
    "responce.content"
   ]
  },
  {
   "cell_type": "markdown",
   "metadata": {},
   "source": [
    "Prompt Templates\n"
   ]
  },
  {
   "cell_type": "code",
   "execution_count": 71,
   "metadata": {},
   "outputs": [],
   "source": [
    "## Add more complixiyty\n",
    "\n",
    "from langchain_core.prompts import ChatPromptTemplate,MessagesPlaceholder\n",
    "prompt=ChatPromptTemplate.from_messages(\n",
    "    [\n",
    "        (\"system\",\"You are helpful AI Assistant\"),\n",
    "        MessagesPlaceholder(variable_name=\"messages\"),\n",
    "       \n",
    "    ]\n",
    "    \n",
    ")\n",
    "\n",
    "chain=prompt | model\n"
   ]
  },
  {
   "cell_type": "code",
   "execution_count": 72,
   "metadata": {},
   "outputs": [
    {
     "data": {
      "text/plain": [
       "AIMessage(content=\"Nice to meet you, MD Zaid. How can I assist you today? Do you have any questions or topics you'd like to discuss? I'm here to provide information and help with anything you need.\", additional_kwargs={}, response_metadata={'token_usage': {'completion_tokens': 43, 'prompt_tokens': 48, 'total_tokens': 91, 'completion_time': 0.048861523, 'prompt_time': 0.006003516, 'queue_time': 0.047871754, 'total_time': 0.054865039}, 'model_name': 'llama-3.1-8b-instant', 'system_fingerprint': 'fp_c40956ddc4', 'service_tier': 'on_demand', 'finish_reason': 'stop', 'logprobs': None}, id='run--0c040061-e849-4bd0-9092-def4275963a9-0', usage_metadata={'input_tokens': 48, 'output_tokens': 43, 'total_tokens': 91})"
      ]
     },
     "execution_count": 72,
     "metadata": {},
     "output_type": "execute_result"
    }
   ],
   "source": [
    "chain.invoke({\"messages\":[HumanMessage(content=\"Hi my name is MD zaid \")],\"language\":\"Hindi\"})"
   ]
  },
  {
   "cell_type": "code",
   "execution_count": 73,
   "metadata": {},
   "outputs": [],
   "source": [
    "with_message_history=RunnableWithMessageHistory(\n",
    "    chain,\n",
    "    get_session_history,\n",
    "    input_messages_key=\"messages\")"
   ]
  },
  {
   "cell_type": "code",
   "execution_count": 74,
   "metadata": {},
   "outputs": [
    {
     "data": {
      "text/plain": [
       "'Nice to meet you, MD Zaid. How can I assist you today?'"
      ]
     },
     "execution_count": 74,
     "metadata": {},
     "output_type": "execute_result"
    }
   ],
   "source": [
    "config={\"configurable\":{\"session_id\":\"chat4\"}}\n",
    "responce=with_message_history.invoke(\n",
    "    {\"messages\":[HumanMessage(content=\"Hi my name is MD zaid \")],\"language\":\"Hindi\"},\n",
    "    config=config\n",
    ")\n",
    "responce.content"
   ]
  },
  {
   "cell_type": "code",
   "execution_count": 75,
   "metadata": {},
   "outputs": [
    {
     "data": {
      "text/plain": [
       "[SystemMessage(content='You are a helpful AI assistant that guides users to become AI Engineers.', additional_kwargs={}, response_metadata={})]"
      ]
     },
     "execution_count": 75,
     "metadata": {},
     "output_type": "execute_result"
    }
   ],
   "source": [
    "## Manage the Converstaion History\n",
    "from langchain_core.messages import SystemMessage,trim_messages\n",
    "\n",
    "trimmer=trim_messages(\n",
    "    max_tokens=100,\n",
    "    strategy=\"last\",\n",
    "    token_counter=model,\n",
    "    include_system=True,\n",
    "    allow_partial=False,\n",
    "    start_on=\"Human\"\n",
    ")\n",
    "\n",
    "messages = [\n",
    "    SystemMessage(content=\"You are a helpful AI assistant that guides users to become AI Engineers.\"),\n",
    "    \n",
    "    HumanMessage(content=\"Hi, my name is Zaid.\"),\n",
    "    AIMessage(content=\"Hello Zaid! Nice to meet you. How can I help you today?\"),\n",
    "    \n",
    "    HumanMessage(content=\"I want to become an AI Engineer. Can you guide me?\"),\n",
    "    AIMessage(content=\"Of course! To become an AI Engineer, you should start with Python, learn math foundations, study ML/DL, and practice building projects.\"),\n",
    "    \n",
    "    HumanMessage(content=\"What kind of projects should I try first?\"),\n",
    "    AIMessage(content=\"You can start with projects like a movie recommendation system, image classifier, or chatbot. Later, you can move to advanced ones like self-driving car simulations.\"),\n",
    "    \n",
    "    HumanMessage(content=\"Great! Can you also suggest some resources for learning?\"),\n",
    "    AIMessage(content=\"Yes! You can follow online courses on Coursera, fast.ai, and Kaggle. Also, read 'Hands-On Machine Learning with Scikit-Learn, Keras, and TensorFlow'.\"),\n",
    "    \n",
    "    HumanMessage(content=\"Thanks! Can you summarize my next steps in short?\"),\n",
    "    AIMessage(content=\"Sure! 1) Master Python, 2) Learn ML/DL fundamentals, 3) Build beginner projects, 4) Explore advanced AI projects, 5) Apply for internships/jobs.\"),\n",
    "]\n",
    "\n",
    "trimmer.invoke(messages)"
   ]
  },
  {
   "cell_type": "code",
   "execution_count": 76,
   "metadata": {},
   "outputs": [
    {
     "data": {
      "text/plain": [
       "'Nice to meet you, MD Zaid. How can I assist you today?'"
      ]
     },
     "execution_count": 76,
     "metadata": {},
     "output_type": "execute_result"
    }
   ],
   "source": [
    "from operator import itemgetter\n",
    "\n",
    "from langchain_core.runnables import RunnablePassthrough\n",
    "\n",
    "chain=(\n",
    "    \n",
    "    RunnablePassthrough.assign(messages=itemgetter(\"messages\")|trimmer) \n",
    "    |prompt\n",
    "    |model\n",
    ")\n",
    "\n",
    "chain.invoke(\n",
    "   { \"messages\":messages + [HumanMessage(content=\"Can you summarize my next steps in short?\")],\n",
    "    \"language\":\"English\"\n",
    "   }\n",
    ")\n",
    "\n",
    "responce.content"
   ]
  },
  {
   "cell_type": "code",
   "execution_count": 80,
   "metadata": {},
   "outputs": [],
   "source": [
    "## Lets wrap this in the message history\n",
    "with_message_history=RunnableWithMessageHistory(\n",
    "    chain,\n",
    "    get_session_history,\n",
    "    input_messages_key=\"messages\")\n",
    "\n",
    "config={\"configurable\":{\"session_id\":\"chat5\"}}"
   ]
  },
  {
   "cell_type": "code",
   "execution_count": 83,
   "metadata": {},
   "outputs": [
    {
     "name": "stdout",
     "output_type": "stream",
     "text": [
      "AI: content=\"Welcome to our AI Engineer journey! I'm excited to help you learn and grow in the field of Artificial Intelligence. As your AI assistant, I'll provide you with a structured approach to becoming an AI Engineer.\\n\\n**Phase 1: Fundamentals**\\n\\nBefore diving into AI, it's essential to have a solid foundation in computer science and mathematics. Here are some topics to focus on:\\n\\n1. **Programming languages**: Python, Java, C++, or C#\\n2. **Data structures and algorithms**: Arrays, linked lists, stacks, queues, trees, graphs, sorting, searching, and more\\n3. **Mathematics**: Linear algebra, calculus, probability, and statistics\\n4. **Computer organization**: Computer architecture, operating systems, and networks\\n\\n**Phase 2: AI Fundamentals**\\n\\nNow that you have a solid foundation, let's dive into AI concepts:\\n\\n1. **Introduction to AI**: History, types of AI, AI applications, and challenges\\n2. **Machine learning**: Supervised, unsupervised, and reinforcement learning\\n3. **Deep learning**: Neural networks, convolutional neural networks (CNNs), recurrent neural networks (RNNs), and long short-term memory (LSTM) networks\\n4. **Natural language processing (NLP)**: Text processing, sentiment analysis, and language models\\n5. **Computer vision**: Image processing, object detection, and image classification\\n\\n**Phase 3: AI Techniques**\\n\\nLet's explore various AI techniques:\\n\\n1. **Supervised learning**: Regression, classification, and clustering\\n2. **Unsupervised learning**: Dimensionality reduction, density estimation, and clustering\\n3. **Reinforcement learning**: Q-learning, SARSA, and deep Q-learning\\n4. **NLP techniques**: Tokenization, stemming, lemmatization, and named entity recognition (NER)\\n5. **Computer vision techniques**: Object detection, segmentation, and tracking\\n\\n**Phase 4: AI Tools and Frameworks**\\n\\nLet's learn about popular AI tools and frameworks:\\n\\n1. **TensorFlow**: A popular open-source framework for building and training neural networks\\n2. **PyTorch**: A dynamic computation graph framework for building and training neural networks\\n3. **Keras**: A high-level neural networks API for building and training neural networks\\n4. **Scikit-learn**: A popular machine learning library for Python\\n5. **OpenCV**: A computer vision library for image and video processing\\n\\n**Phase 5: AI Applications**\\n\\nLet's explore real-world AI applications:\\n\\n1. **Chatbots**: Building conversational interfaces using NLP and machine learning\\n2. **Image classification**: Building image classification models using CNNs and deep learning\\n3. **Recommendation systems**: Building personalized recommendation systems using collaborative filtering and matrix factorization\\n4. **Predictive maintenance**: Building predictive maintenance models using machine learning and sensor data\\n5. **Autonomous vehicles**: Building autonomous vehicles using computer vision, sensor data, and machine learning\\n\\nThis is just a high-level overview of the journey to becoming an AI Engineer. We'll dive deeper into each topic and provide hands-on exercises and projects to help you learn and grow.\\n\\nWhich phase would you like to start with?\" additional_kwargs={} response_metadata={'token_usage': {'completion_tokens': 653, 'prompt_tokens': 50, 'total_tokens': 703, 'completion_time': 0.979827557, 'prompt_time': 0.005917446, 'queue_time': 0.048774564, 'total_time': 0.985745003}, 'model_name': 'llama-3.1-8b-instant', 'system_fingerprint': 'fp_c40956ddc4', 'service_tier': 'on_demand', 'finish_reason': 'stop', 'logprobs': None} id='run--3f757bfa-5c44-438b-ace7-de4a30245530-0' usage_metadata={'input_tokens': 50, 'output_tokens': 653, 'total_tokens': 703}\n"
     ]
    }
   ],
   "source": [
    "response = with_message_history.invoke(\n",
    "    {\n",
    "        \"messages\": messages + [HumanMessage(content=\"Can you summarize my next steps in short?\")],\n",
    "        \"language\": \"English\"\n",
    "    },\n",
    "    config={   # <-- pass config here as a second argument\n",
    "        \"configurable\": {\"session_id\": \"chat5\"}\n",
    "    }\n",
    ")\n",
    "\n",
    "print(\"AI:\", response)\n"
   ]
  },
  {
   "cell_type": "code",
   "execution_count": null,
   "metadata": {},
   "outputs": [],
   "source": []
  }
 ],
 "metadata": {
  "kernelspec": {
   "display_name": "Python 3",
   "language": "python",
   "name": "python3"
  },
  "language_info": {
   "codemirror_mode": {
    "name": "ipython",
    "version": 3
   },
   "file_extension": ".py",
   "mimetype": "text/x-python",
   "name": "python",
   "nbconvert_exporter": "python",
   "pygments_lexer": "ipython3",
   "version": "3.10.18"
  }
 },
 "nbformat": 4,
 "nbformat_minor": 2
}
